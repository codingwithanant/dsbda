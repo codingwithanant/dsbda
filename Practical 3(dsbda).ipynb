{
 "cells": [
  {
   "cell_type": "code",
   "execution_count": null,
   "id": "9166d886",
   "metadata": {},
   "outputs": [],
   "source": [
    "#Practicle 3\n",
    "import pandas as pd\n",
    "import numpy as np"
   ]
  },
  {
   "cell_type": "code",
   "execution_count": null,
   "id": "1e87c148",
   "metadata": {},
   "outputs": [
    {
     "data": {
      "text/html": [
       "<div>\n",
       "<style scoped>\n",
       "    .dataframe tbody tr th:only-of-type {\n",
       "        vertical-align: middle;\n",
       "    }\n",
       "\n",
       "    .dataframe tbody tr th {\n",
       "        vertical-align: top;\n",
       "    }\n",
       "\n",
       "    .dataframe thead th {\n",
       "        text-align: right;\n",
       "    }\n",
       "</style>\n",
       "<table border=\"1\" class=\"dataframe\">\n",
       "  <thead>\n",
       "    <tr style=\"text-align: right;\">\n",
       "      <th></th>\n",
       "      <th>ID</th>\n",
       "      <th>Experience_Years</th>\n",
       "      <th>Age</th>\n",
       "      <th>Gender</th>\n",
       "      <th>Salary</th>\n",
       "    </tr>\n",
       "  </thead>\n",
       "  <tbody>\n",
       "    <tr>\n",
       "      <th>0</th>\n",
       "      <td>1</td>\n",
       "      <td>5</td>\n",
       "      <td>28</td>\n",
       "      <td>Female</td>\n",
       "      <td>250000</td>\n",
       "    </tr>\n",
       "    <tr>\n",
       "      <th>1</th>\n",
       "      <td>2</td>\n",
       "      <td>1</td>\n",
       "      <td>21</td>\n",
       "      <td>Male</td>\n",
       "      <td>50000</td>\n",
       "    </tr>\n",
       "    <tr>\n",
       "      <th>2</th>\n",
       "      <td>3</td>\n",
       "      <td>3</td>\n",
       "      <td>23</td>\n",
       "      <td>Female</td>\n",
       "      <td>170000</td>\n",
       "    </tr>\n",
       "    <tr>\n",
       "      <th>3</th>\n",
       "      <td>4</td>\n",
       "      <td>2</td>\n",
       "      <td>22</td>\n",
       "      <td>Male</td>\n",
       "      <td>25000</td>\n",
       "    </tr>\n",
       "    <tr>\n",
       "      <th>4</th>\n",
       "      <td>5</td>\n",
       "      <td>1</td>\n",
       "      <td>17</td>\n",
       "      <td>Male</td>\n",
       "      <td>10000</td>\n",
       "    </tr>\n",
       "  </tbody>\n",
       "</table>\n",
       "</div>"
      ],
      "text/plain": [
       "   ID  Experience_Years  Age  Gender  Salary\n",
       "0   1                 5   28  Female  250000\n",
       "1   2                 1   21    Male   50000\n",
       "2   3                 3   23  Female  170000\n",
       "3   4                 2   22    Male   25000\n",
       "4   5                 1   17    Male   10000"
      ]
     },
     "execution_count": 2,
     "metadata": {},
     "output_type": "execute_result"
    }
   ],
   "source": [
    "df = pd.read_csv(\"Employee_Salary_Dataset.csv\")\n",
    "df.head()"
   ]
  },
  {
   "cell_type": "code",
   "execution_count": null,
   "id": "069ccf4a",
   "metadata": {},
   "outputs": [
    {
     "name": "stdout",
     "output_type": "stream",
     "text": [
      "\n",
      "Summery statistics of Salary grouped by Gender :\n",
      "                mean    median   min       max           std\n",
      "Gender                                                      \n",
      "Female  2.054917e+06  250000.0  6000  10000000  3.450120e+06\n",
      "Male    2.063626e+06  220100.0  3000   7600000  2.950974e+06\n"
     ]
    }
   ],
   "source": [
    "grouped = df.groupby('Gender')['Salary']\n",
    "\n",
    "summery_stats= grouped.agg(['mean','median','min','max','std'])\n",
    "\n",
    "print(\"\\nSummery statistics of Salary grouped by Gender :\")\n",
    "print(summery_stats)\n"
   ]
  },
  {
   "cell_type": "code",
   "execution_count": null,
   "id": "ad2133d0",
   "metadata": {},
   "outputs": [
    {
     "name": "stdout",
     "output_type": "stream",
     "text": [
      "Salary list grouped by Experience years : \n",
      "Experience_Years\n",
      "1             [50000, 10000, 6000, 3000]\n",
      "2       [25000, 9000, 7500, 15000, 6100]\n",
      "3                        [170000, 20000]\n",
      "4           [250000, 87000, 25000, 8900]\n",
      "5                      [250000, 6845000]\n",
      "6                              [1400000]\n",
      "10        [61500, 930000, 330000, 80000]\n",
      "11                              [220100]\n",
      "14                             [6000050]\n",
      "15    [650000, 7900000, 6570000, 900000]\n",
      "16                             [7600000]\n",
      "19            [800000, 5000000, 9300000]\n",
      "20                             [1540000]\n",
      "25                             [5001000]\n",
      "27                            [10000000]\n",
      "Name: Salary, dtype: object\n"
     ]
    }
   ],
   "source": [
    "grouped1 = df.groupby('Experience_Years')['Salary']\n",
    "salary_list_by_exp = grouped1.apply(list)\n",
    "print(\"Salary list grouped by Experience years : \")\n",
    "print(salary_list_by_exp)"
   ]
  },
  {
   "cell_type": "code",
   "execution_count": null,
   "id": "c8db79e4",
   "metadata": {},
   "outputs": [],
   "source": [
    "iris = pd.read_csv(\"Iris.csv\")"
   ]
  },
  {
   "cell_type": "code",
   "execution_count": null,
   "id": "c92b8774",
   "metadata": {},
   "outputs": [
    {
     "data": {
      "text/plain": [
       "Index(['Id', 'SepalLengthCm', 'SepalWidthCm', 'PetalLengthCm', 'PetalWidthCm',\n",
       "       'Species'],\n",
       "      dtype='object')"
      ]
     },
     "execution_count": 14,
     "metadata": {},
     "output_type": "execute_result"
    }
   ],
   "source": [
    "iris.columns"
   ]
  },
  {
   "cell_type": "code",
   "execution_count": null,
   "id": "462efc55",
   "metadata": {},
   "outputs": [
    {
     "name": "stdout",
     "output_type": "stream",
     "text": [
      "Species in dataset :  ['Iris-setosa' 'Iris-versicolor' 'Iris-virginica']\n"
     ]
    }
   ],
   "source": [
    "print(\"Species in dataset : \",iris['Species'].unique())"
   ]
  },
  {
   "cell_type": "code",
   "execution_count": null,
   "id": "f437357c",
   "metadata": {},
   "outputs": [
    {
     "name": "stdout",
     "output_type": "stream",
     "text": [
      "\n",
      "Descriptive statistics of Iris-setosa\n",
      "             Id  SepalLengthCm  SepalWidthCm  PetalLengthCm  PetalWidthCm\n",
      "count  50.00000       50.00000     50.000000      50.000000      50.00000\n",
      "mean   25.50000        5.00600      3.418000       1.464000       0.24400\n",
      "std    14.57738        0.35249      0.381024       0.173511       0.10721\n",
      "min     1.00000        4.30000      2.300000       1.000000       0.10000\n",
      "25%    13.25000        4.80000      3.125000       1.400000       0.20000\n",
      "50%    25.50000        5.00000      3.400000       1.500000       0.20000\n",
      "75%    37.75000        5.20000      3.675000       1.575000       0.30000\n",
      "max    50.00000        5.80000      4.400000       1.900000       0.60000\n",
      "\n",
      "Descriptive statistics of Iris-versicolor\n",
      "              Id  SepalLengthCm  SepalWidthCm  PetalLengthCm  PetalWidthCm\n",
      "count   50.00000      50.000000     50.000000      50.000000     50.000000\n",
      "mean    75.50000       5.936000      2.770000       4.260000      1.326000\n",
      "std     14.57738       0.516171      0.313798       0.469911      0.197753\n",
      "min     51.00000       4.900000      2.000000       3.000000      1.000000\n",
      "25%     63.25000       5.600000      2.525000       4.000000      1.200000\n",
      "50%     75.50000       5.900000      2.800000       4.350000      1.300000\n",
      "75%     87.75000       6.300000      3.000000       4.600000      1.500000\n",
      "max    100.00000       7.000000      3.400000       5.100000      1.800000\n",
      "\n",
      "Descriptive statistics of Iris-virginica\n",
      "              Id  SepalLengthCm  SepalWidthCm  PetalLengthCm  PetalWidthCm\n",
      "count   50.00000       50.00000     50.000000      50.000000      50.00000\n",
      "mean   125.50000        6.58800      2.974000       5.552000       2.02600\n",
      "std     14.57738        0.63588      0.322497       0.551895       0.27465\n",
      "min    101.00000        4.90000      2.200000       4.500000       1.40000\n",
      "25%    113.25000        6.22500      2.800000       5.100000       1.80000\n",
      "50%    125.50000        6.50000      3.000000       5.550000       2.00000\n",
      "75%    137.75000        6.90000      3.175000       5.875000       2.30000\n",
      "max    150.00000        7.90000      3.800000       6.900000       2.50000\n"
     ]
    }
   ],
   "source": [
    "group_iris = iris.groupby('Species')\n",
    "\n",
    "for species, data in group_iris:\n",
    "    print(f\"\\nDescriptive statistics of {species}\")\n",
    "    print(data.describe())"
   ]
  },
  {
   "cell_type": "code",
   "execution_count": null,
   "id": "cbc4b81c",
   "metadata": {},
   "outputs": [],
   "source": []
  }
 ],
 "metadata": {
  "kernelspec": {
   "display_name": "Python 3 (ipykernel)",
   "language": "python",
   "name": "python3"
  },
  "language_info": {
   "codemirror_mode": {
    "name": "ipython",
    "version": 3
   },
   "file_extension": ".py",
   "mimetype": "text/x-python",
   "name": "python",
   "nbconvert_exporter": "python",
   "pygments_lexer": "ipython3",
   "version": "3.11.4"
  }
 },
 "nbformat": 4,
 "nbformat_minor": 5
}
